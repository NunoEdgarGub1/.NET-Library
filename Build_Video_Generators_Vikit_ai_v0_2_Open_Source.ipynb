{
  "cells": [
    {
      "cell_type": "markdown",
      "metadata": {
        "id": "view-in-github",
        "colab_type": "text"
      },
      "source": [
        "<a href=\"https://colab.research.google.com/github/nunofernandes-plight/.NET-Library/blob/master/Build_Video_Generators_Vikit_ai_v0_2_Open_Source.ipynb\" target=\"_parent\"><img src=\"https://colab.research.google.com/assets/colab-badge.svg\" alt=\"Open In Colab\"/></a>"
      ]
    },
    {
      "cell_type": "markdown",
      "metadata": {
        "id": "EwcGIjpN6zx6"
      },
      "source": [
        "Downloading the SDK"
      ]
    },
    {
      "cell_type": "code",
      "execution_count": null,
      "metadata": {
        "id": "moRjh-jm9CMO"
      },
      "outputs": [],
      "source": [
        "!git clone https://github.com/Vikit-ai/sdk"
      ]
    },
    {
      "cell_type": "code",
      "execution_count": null,
      "metadata": {
        "id": "WNJmjBHU0H8K"
      },
      "outputs": [],
      "source": [
        "%cd sdk"
      ]
    },
    {
      "cell_type": "markdown",
      "metadata": {
        "id": "l-tNCazg3N_j"
      },
      "source": [
        "# **Important : Get a VIKIT API Token at this adress https://vikit.ai/#/platform and set it up in the following cell before to run this colab**"
      ]
    },
    {
      "cell_type": "code",
      "execution_count": null,
      "metadata": {
        "id": "mMVKIcMI3MoK"
      },
      "outputs": [],
      "source": [
        "%%writefile .env.secrets.dev\n",
        "VIKIT_API_TOKEN=Get you Vikit API Key here https://vikit.ai/#/platform"
      ]
    },
    {
      "cell_type": "markdown",
      "metadata": {
        "id": "N4RrdLGk64OU"
      },
      "source": [
        "# Configuring the Colab with Vikit config, python packages, and ffmpeg to process the content"
      ]
    },
    {
      "cell_type": "code",
      "execution_count": null,
      "metadata": {
        "id": "oW0E3-64kg_t"
      },
      "outputs": [],
      "source": [
        "%%writefile .env.config.dev\n",
        "TESTMODE=true\n",
        "ELEVEN_LABS_API_URI=https://api.elevenlabs.io/v1/text-to-speech/21m00Tcm4TlvDq8ikWAM\n",
        "VIDEHO_EMAIL_CONTACT=clement@vikit.ai\n",
        "NB_RETRIES_HTTP_CALLS=3\n",
        "SUBTITLES_MIN_DURATION=7\n",
        "STEPS=300\n",
        "NUMBER_OF_SUBTITLES_PER_VIDEO_PROMPT=1\n",
        "SUBTITLES_FILE_NAME = \"subtitles.srt\"\n",
        "CLEANUP_TEMPFILES=false\n",
        "SUB_AUDIO_FOR_SOUND_PREFIX = \"sub_audio_for_subtitle_from\"\n",
        "PROMPT_MP3_FILE_NAME=prompt_upload.mp3\n",
        "VIDEO_ENCODED_WITHOUT_MUSIC_FILE_PREFIX=final_video_without_music\n",
        "INITIAL_AUDIO_FILE_NAME=\"upload.mp3\"\n",
        "VIDEO_LIST_FILE_NAME = \"videos_to_merge.txt\"\n",
        "CLOUD_BUCKET_URL=https://storage.cloud.google.com/aivideoscreated\n",
        "NB_WORDS_PER_SUBTITLE = 15\n",
        "NB_SECONDS_PER_WORDS = 0.5\n",
        "DEFAULT_BACKGROUND_MUSIC = medias/royalteefree_background_music.mp3"
      ]
    },
    {
      "cell_type": "code",
      "execution_count": null,
      "metadata": {
        "collapsed": true,
        "id": "o__LWHS2aZtI"
      },
      "outputs": [],
      "source": [
        "!pip install -r requirements.txt"
      ]
    },
    {
      "cell_type": "code",
      "execution_count": null,
      "metadata": {
        "id": "EJl4LNmbBv_F"
      },
      "outputs": [],
      "source": [
        "#@markdown <br><center><img src='https://raw.githubusercontent.com/dropcreations/FFmpeg-for-Google-Colab/32abf44ff4c8d145a94a24611f01141926a8daaa/FFmpeg-Logo.svg' height=\"40\" alt=\"FFmpeg-logo\"/></center>\n",
        "#@markdown <center><h3><b>Install FFmpeg on Google Colab</b></h3></center><br>\n",
        "from IPython.display import clear_output\n",
        "!sudo curl -L https://github.com/BtbN/FFmpeg-Builds/releases/download/latest/ffmpeg-master-latest-linux64-gpl.tar.xz -o /usr/local/bin/ffmpeg.tar.xz\n",
        "clear_output()\n",
        "%cd /usr/local/bin/\n",
        "clear_output()\n",
        "!7z -y e /usr/local/bin/ffmpeg.tar.xz\n",
        "clear_output()\n",
        "!7z -y e /usr/local/bin/ffmpeg.tar\n",
        "clear_output()\n",
        "!sudo chmod a+rx /usr/local/bin/ffmpeg\n",
        "clear_output()\n",
        "%cd /content/\n",
        "!sudo curl -L https://mkvtoolnix.download/appimage/MKVToolNix_GUI-70.0.0-x86_64.AppImage -o /usr/local/bin/MKVToolNix_GUI-70.0.0-x86_64.AppImage\n",
        "!sudo chmod u+rx /usr/local/bin/MKVToolNix_GUI-70.0.0-x86_64.AppImage\n",
        "!sudo ln -s /usr/local/bin/MKVToolNix_GUI-70.0.0-x86_64.AppImage /usr/local/bin/mkvmerge\n",
        "!sudo chmod a+rx /usr/local/bin/mkvmerge\n",
        "clear_output()\n",
        "!ffmpeg -version"
      ]
    },
    {
      "cell_type": "code",
      "execution_count": null,
      "metadata": {
        "id": "GJ1G76K7QrjA"
      },
      "outputs": [],
      "source": [
        "#Re-going into SDK as ffmpeg install restarts colab\n",
        "%cd sdk"
      ]
    },
    {
      "cell_type": "markdown",
      "metadata": {
        "id": "0XyBnPIb7NPM"
      },
      "source": [
        "Importing Vikit.ai Libraries"
      ]
    },
    {
      "cell_type": "code",
      "execution_count": null,
      "metadata": {
        "id": "PnJGTJzyw6TF"
      },
      "outputs": [],
      "source": [
        "from vikit.video.video import Video, VideoBuildSettings\n",
        "from vikit.video.imported_video import ImportedVideo\n",
        "from vikit.video.prompt_based_video import PromptBasedVideo\n",
        "from vikit.video.raw_text_based_video import RawTextBasedVideo\n",
        "from vikit.video.raw_image_based_video import RawImageBasedVideo\n",
        "from vikit.video.composite_video import CompositeVideo\n",
        "from vikit.video.seine_transition import SeineTransition\n",
        "from vikit.prompt.prompt_factory import PromptFactory\n",
        "from vikit.common.context_managers import WorkingFolderContext\n",
        "from vikit.music_building_context import MusicBuildingContext"
      ]
    },
    {
      "cell_type": "code",
      "execution_count": null,
      "metadata": {
        "id": "nieJWqupBK6q"
      },
      "outputs": [],
      "source": [
        "from loguru import logger\n",
        "logger.add(\"log.txt\")"
      ]
    },
    {
      "cell_type": "markdown",
      "metadata": {
        "id": "iCdc0_Ye7YgW"
      },
      "source": [
        "# Vikit.ai usage examples"
      ]
    },
    {
      "cell_type": "code",
      "execution_count": null,
      "metadata": {
        "id": "72LXhJCils2Q"
      },
      "outputs": [],
      "source": [
        "#@title Generating a video from simple text prompt\n",
        "working_folder=\"./examples/inputs/PromptbasedVideo/\"\n",
        "with WorkingFolderContext(working_folder):\n",
        "    video_build_settings = VideoBuildSettings(\n",
        "        music_building_context=MusicBuildingContext(\n",
        "            apply_background_music=True,\n",
        "            generate_background_music=True,\n",
        "        ),\n",
        "        test_mode=False,\n",
        "        include_read_aloud_prompt=True,\n",
        "        target_model_provider=\"haiper\", #Available models: videocrafter, stabilityai, haiper\n",
        "        output_video_file_name=\"AICosmetics.mp4\",\n",
        "        interpolate=True,\n",
        "    )\n",
        "\n",
        "    prompt = \"Unlock your radiance with AI Cosmetics. Experience the magic of premium ingredients, designed to reveal your natural glow. Discover the perfect blend of science and nature with our advanced formulations, tailored to enhance your unique beauty. Transform your skincare routine with our luxurious, high-performance products that deliver visible results. Embrace your true self with confidence, knowing AI Cosmetics has you covered every step of the way.\"  # @param {type:\"string\"}\n",
        "    gw = video_build_settings.get_ml_models_gateway()\n",
        "    prompt = await PromptFactory(ml_gateway=gw).create_prompt_from_text(prompt)\n",
        "    video = PromptBasedVideo(prompt=prompt)\n",
        "    await video.build(build_settings=video_build_settings)"
      ]
    },
    {
      "cell_type": "code",
      "execution_count": null,
      "metadata": {
        "id": "xPLRw0mtq3ez"
      },
      "outputs": [],
      "source": [
        "print(f\"Saved image {working_folder + video.media_url}\")\n",
        "\n",
        "from IPython.display import HTML\n",
        "from base64 import b64encode\n",
        "mp4 = open(working_folder + video.media_url,'rb').read()\n",
        "data_url = \"data:video/mp4;base64,\" + b64encode(mp4).decode()\n",
        "HTML(\"\"\"\n",
        "<video width=400 controls>\n",
        "      <source src=\"%s\" type=\"video/mp4\">\n",
        "</video>\n",
        "\"\"\" % data_url)"
      ]
    },
    {
      "cell_type": "code",
      "execution_count": null,
      "metadata": {
        "collapsed": true,
        "id": "ZmuXHVywGHXF"
      },
      "outputs": [],
      "source": [
        "#@title Generating a more precisely defined video\n",
        "working_folder=\"./examples/inputs/CompositeVideo/\"\n",
        "with WorkingFolderContext(working_folder):\n",
        "\n",
        "    video_build_settings = VideoBuildSettings(\n",
        "        music_building_context=MusicBuildingContext(\n",
        "            apply_background_music=True,\n",
        "            generate_background_music=True,\n",
        "        ),\n",
        "        test_mode=False,\n",
        "        include_read_aloud_prompt=True,\n",
        "        target_model_provider=\"haiper\",\n",
        "        output_video_file_name=\"Output.mp4\",\n",
        "        interpolate=True,\n",
        "    )\n",
        "\n",
        "    gw = video_build_settings.get_ml_models_gateway()\n",
        "\n",
        "    promptText = \"Today, we’re journeying back to ancient Greece to explore the life and ideas of ancient philosophers.\"  # @param {type:\"string\"}\n",
        "    prompt = await PromptFactory(ml_gateway=gw).create_prompt_from_text(promptText)\n",
        "\n",
        "    video_build_settings.prompt = prompt\n",
        "\n",
        "    vid_cp_final = CompositeVideo()\n",
        "    vid_cp_final._is_root_video_composite = True\n",
        "\n",
        "    for sub in prompt.subtitles:\n",
        "        vid_cp_sub = CompositeVideo()\n",
        "\n",
        "        keyword_based_vid = RawTextBasedVideo(sub.text)\n",
        "\n",
        "        prompt_based_vid = RawTextBasedVideo(sub.text)\n",
        "\n",
        "        vid_cp_sub.append_video(keyword_based_vid).append_video(\n",
        "            prompt_based_vid\n",
        "        )\n",
        "        vid_cp_final.append_video(vid_cp_sub)\n",
        "\n",
        "    await vid_cp_final.build(build_settings=video_build_settings)\n",
        "    print(f\"Saved video {vid_cp_final.media_url}\")"
      ]
    },
    {
      "cell_type": "code",
      "execution_count": null,
      "metadata": {
        "id": "DYqe5kDwHj8z"
      },
      "outputs": [],
      "source": [
        "print(f\"Saved image {working_folder + vid_cp_final.media_url}\")\n",
        "\n",
        "from IPython.display import HTML\n",
        "from base64 import b64encode\n",
        "mp4 = open(working_folder + vid_cp_final.media_url,'rb').read()\n",
        "data_url = \"data:video/mp4;base64,\" + b64encode(mp4).decode()\n",
        "HTML(\"\"\"\n",
        "<video width=400 controls>\n",
        "      <source src=\"%s\" type=\"video/mp4\">\n",
        "</video>\n",
        "\"\"\" % data_url)"
      ]
    },
    {
      "cell_type": "code",
      "execution_count": null,
      "metadata": {
        "collapsed": true,
        "id": "bCIeoE0dtBMd"
      },
      "outputs": [],
      "source": [
        "#@title Generating a video composed of multiple scenes with background music\n",
        "\n",
        "working_folder=\"./examples/inputs/MultipleCompositeVideos/\"\n",
        "with WorkingFolderContext(working_folder):\n",
        "    video_build_settings = VideoBuildSettings(\n",
        "        music_building_context=MusicBuildingContext(\n",
        "            apply_background_music=True,\n",
        "            generate_background_music=True,\n",
        "        ),\n",
        "        test_mode=False,\n",
        "        include_read_aloud_prompt=True,\n",
        "        target_model_provider=\"videocrafter\",\n",
        "        output_video_file_name=\"Coffee.mp4\",\n",
        "        interpolate=True,\n",
        "    )\n",
        "\n",
        "    firstScene = \"A beautiful and branded coffee looking delicious.\"  # @param {type:\"string\"}\n",
        "    gw = video_build_settings.get_ml_models_gateway()\n",
        "    prompt = await PromptFactory(ml_gateway=gw).create_prompt_from_text(firstScene)\n",
        "\n",
        "    vid_cp_final = CompositeVideo()\n",
        "    vid_cp_final._is_root_video_composite = True\n",
        "\n",
        "    vid_cp_firstScene = CompositeVideo()\n",
        "\n",
        "    for sub in prompt.subtitles:\n",
        "        vid_cp_sub = CompositeVideo()\n",
        "\n",
        "        keyword_based_vid = RawTextBasedVideo(sub.text)\n",
        "\n",
        "        prompt_based_vid = RawTextBasedVideo(sub.text)\n",
        "\n",
        "        transit = SeineTransition(\n",
        "            source_video=keyword_based_vid,\n",
        "            target_video=prompt_based_vid,\n",
        "        )\n",
        "\n",
        "        vid_cp_sub.append_video(keyword_based_vid).append_video(\n",
        "            transit\n",
        "        ).append_video(\n",
        "            prompt_based_vid\n",
        "        )\n",
        "        vid_cp_firstScene.append_video(vid_cp_sub)\n",
        "\n",
        "    secondScene = \"Someone drinking this coffee and enjoying it, this person looks happy\"  # @param {type:\"string\"}\n",
        "\n",
        "    prompt = await PromptFactory(ml_gateway=gw).create_prompt_from_text(secondScene)\n",
        "    vid_cp_secondScene = CompositeVideo()\n",
        "\n",
        "    for sub in prompt.subtitles:\n",
        "        vid_cp_sub = CompositeVideo()\n",
        "\n",
        "        keyword_based_vid = RawTextBasedVideo(sub.text)\n",
        "\n",
        "        prompt_based_vid = RawTextBasedVideo(sub.text)\n",
        "\n",
        "        transit = SeineTransition(\n",
        "            source_video=keyword_based_vid,\n",
        "            target_video=prompt_based_vid,\n",
        "        )\n",
        "        vid_cp_sub.append_video(keyword_based_vid).append_video(\n",
        "            transit\n",
        "        ).append_video(\n",
        "            prompt_based_vid\n",
        "        )\n",
        "        vid_cp_secondScene.append_video(vid_cp_sub)\n",
        "\n",
        "\n",
        "\n",
        "\n",
        "    vid_cp_final.append_video(vid_cp_firstScene)\n",
        "    vid_cp_final.append_video(vid_cp_secondScene)\n",
        "\n",
        "    await vid_cp_final.build(build_settings=video_build_settings)\n",
        "    print(f\"Saved video {vid_cp_final.media_url}\")\n",
        "\n"
      ]
    },
    {
      "cell_type": "code",
      "execution_count": null,
      "metadata": {
        "id": "k8-O1JqgD01f"
      },
      "outputs": [],
      "source": [
        "print(f\"Saved image {working_folder + vid_cp_final.media_url}\")\n",
        "\n",
        "from IPython.display import HTML\n",
        "from base64 import b64encode\n",
        "mp4 = open(working_folder + vid_cp_final.media_url,'rb').read()\n",
        "data_url = \"data:video/mp4;base64,\" + b64encode(mp4).decode()\n",
        "HTML(\"\"\"\n",
        "<video width=400 controls>\n",
        "      <source src=\"%s\" type=\"video/mp4\">\n",
        "</video>\n",
        "\"\"\" % data_url)"
      ]
    },
    {
      "cell_type": "code",
      "execution_count": null,
      "metadata": {
        "id": "ekhkWHC1ArCm"
      },
      "outputs": [],
      "source": [
        "#@title Generating a video from an image\n",
        "\n",
        "working_folder=\"./examples/inputs/ImageBasedVideo/\"\n",
        "with WorkingFolderContext(working_folder):\n",
        "    #Upload image\n",
        "    from google.colab import files\n",
        "    image_path = files.upload() #In our example, we used this image: https://storage.needpix.com/rsynced_images/olive-oil-507129_1280.jpg\n",
        "    #We generate an introduction text video\n",
        "    video_build_settings_text = VideoBuildSettings(\n",
        "        test_mode=False,\n",
        "        include_read_aloud_prompt=False,\n",
        "        interpolate=True,\n",
        "        target_model_provider=\"videocrafter\",\n",
        "    )\n",
        "\n",
        "    vid_cp_final = CompositeVideo()\n",
        "    vid_cp_final._is_root_video_composite = True\n",
        "\n",
        "    text_based_vid_prompt = \"The Mediterranean sea and Mediterranean products\" #@param {type:\"string\"}\n",
        "\n",
        "    text_based_vid = RawTextBasedVideo(text_based_vid_prompt)\n",
        "    await text_based_vid.prepare_build(build_settings=video_build_settings_text)\n",
        "    vid_cp_final.append_video(text_based_vid)\n",
        "\n",
        "\n",
        "    #Then we create an image based video for the last video, for example to showcase a product\n",
        "    video_build_settings_image = VideoBuildSettings(\n",
        "        test_mode=False,\n",
        "        target_model_provider=\"stabilityai_image\",\n",
        "    )\n",
        "\n",
        "    image=list(image_path.keys())[0]\n",
        "\n",
        "    image_prompt = PromptFactory(\n",
        "            ml_gateway=video_build_settings_image.get_ml_models_gateway()\n",
        "        ).create_prompt_from_image(\n",
        "            image_path=image,\n",
        "            text=\"Image\",\n",
        "        )\n",
        "\n",
        "    imageBasedVideo = RawImageBasedVideo(\n",
        "        raw_image_prompt=image_prompt.image\n",
        "    )\n",
        "    imageBasedVideo.build_settings = video_build_settings_image\n",
        "    video_build_settings_image.prompt = image_prompt\n",
        "\n",
        "    await imageBasedVideo.prepare_build(build_settings=video_build_settings_image)\n",
        "\n",
        "    vid_cp_final.append_video(imageBasedVideo)\n",
        "\n",
        "    video_build_settings = VideoBuildSettings(\n",
        "        music_building_context=MusicBuildingContext(\n",
        "            apply_background_music=True,\n",
        "            generate_background_music=True,\n",
        "        ),\n",
        "        test_mode=False,\n",
        "        output_video_file_name=\"Image.mp4\",\n",
        "        expected_length=10,\n",
        "        cascade_build_settings=False,\n",
        "\n",
        "    )\n",
        "\n",
        "    await vid_cp_final.build(build_settings=video_build_settings)\n",
        "    print(f\"Saved video {vid_cp_final.media_url}\")\n"
      ]
    },
    {
      "cell_type": "code",
      "execution_count": null,
      "metadata": {
        "id": "1JE0nCOjLjb2"
      },
      "outputs": [],
      "source": [
        "print(f\"Saved image {working_folder + vid_cp_final.media_url}\")\n",
        "\n",
        "from IPython.display import HTML\n",
        "from base64 import b64encode\n",
        "mp4 = open(working_folder + vid_cp_final.media_url,'rb').read()\n",
        "data_url = \"data:video/mp4;base64,\" + b64encode(mp4).decode()\n",
        "HTML(\"\"\"\n",
        "<video width=400 controls>\n",
        "      <source src=\"%s\" type=\"video/mp4\">\n",
        "</video>\n",
        "\"\"\" % data_url)"
      ]
    }
  ],
  "metadata": {
    "colab": {
      "provenance": [],
      "include_colab_link": true
    },
    "kernelspec": {
      "display_name": "Python 3",
      "name": "python3"
    },
    "language_info": {
      "name": "python"
    }
  },
  "nbformat": 4,
  "nbformat_minor": 0
}